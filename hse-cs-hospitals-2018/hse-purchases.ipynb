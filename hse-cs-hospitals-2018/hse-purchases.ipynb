{
 "cells": [
  {
   "cell_type": "code",
   "execution_count": 5,
   "id": "caf459f0",
   "metadata": {},
   "outputs": [],
   "source": [
    "import pandas as pd\n",
    "import numpy as np\n",
    "from matplotlib import pyplot as plt"
   ]
  },
  {
   "cell_type": "markdown",
   "id": "9a14af88",
   "metadata": {},
   "source": [
    "### Загрузка данных"
   ]
  },
  {
   "cell_type": "code",
   "execution_count": 131,
   "id": "0f7b90de",
   "metadata": {},
   "outputs": [],
   "source": [
    "data = pd.read_csv('test.csv')"
   ]
  },
  {
   "cell_type": "code",
   "execution_count": 132,
   "id": "852f49bf",
   "metadata": {
    "scrolled": true
   },
   "outputs": [
    {
     "data": {
      "text/html": [
       "<div>\n",
       "<style scoped>\n",
       "    .dataframe tbody tr th:only-of-type {\n",
       "        vertical-align: middle;\n",
       "    }\n",
       "\n",
       "    .dataframe tbody tr th {\n",
       "        vertical-align: top;\n",
       "    }\n",
       "\n",
       "    .dataframe thead th {\n",
       "        text-align: right;\n",
       "    }\n",
       "</style>\n",
       "<table border=\"1\" class=\"dataframe\">\n",
       "  <thead>\n",
       "    <tr style=\"text-align: right;\">\n",
       "      <th></th>\n",
       "      <th>id</th>\n",
       "      <th>obs_count</th>\n",
       "      <th>std</th>\n",
       "      <th>median</th>\n",
       "      <th>mean</th>\n",
       "      <th>skew</th>\n",
       "    </tr>\n",
       "  </thead>\n",
       "  <tbody>\n",
       "    <tr>\n",
       "      <th>0</th>\n",
       "      <td>5093</td>\n",
       "      <td>41305</td>\n",
       "      <td>552.567952</td>\n",
       "      <td>8.0</td>\n",
       "      <td>39.602109</td>\n",
       "      <td>32.068785</td>\n",
       "    </tr>\n",
       "    <tr>\n",
       "      <th>1</th>\n",
       "      <td>5094</td>\n",
       "      <td>28470</td>\n",
       "      <td>23.046139</td>\n",
       "      <td>14.0</td>\n",
       "      <td>18.415265</td>\n",
       "      <td>14.460744</td>\n",
       "    </tr>\n",
       "    <tr>\n",
       "      <th>2</th>\n",
       "      <td>5095</td>\n",
       "      <td>22968</td>\n",
       "      <td>54.793622</td>\n",
       "      <td>9.0</td>\n",
       "      <td>18.950495</td>\n",
       "      <td>26.232261</td>\n",
       "    </tr>\n",
       "    <tr>\n",
       "      <th>3</th>\n",
       "      <td>5096</td>\n",
       "      <td>21161</td>\n",
       "      <td>111.026032</td>\n",
       "      <td>8.0</td>\n",
       "      <td>17.560996</td>\n",
       "      <td>33.278514</td>\n",
       "    </tr>\n",
       "    <tr>\n",
       "      <th>4</th>\n",
       "      <td>5097</td>\n",
       "      <td>17803</td>\n",
       "      <td>66.598352</td>\n",
       "      <td>8.0</td>\n",
       "      <td>16.811143</td>\n",
       "      <td>28.077393</td>\n",
       "    </tr>\n",
       "  </tbody>\n",
       "</table>\n",
       "</div>"
      ],
      "text/plain": [
       "     id  obs_count         std  median       mean       skew\n",
       "0  5093      41305  552.567952     8.0  39.602109  32.068785\n",
       "1  5094      28470   23.046139    14.0  18.415265  14.460744\n",
       "2  5095      22968   54.793622     9.0  18.950495  26.232261\n",
       "3  5096      21161  111.026032     8.0  17.560996  33.278514\n",
       "4  5097      17803   66.598352     8.0  16.811143  28.077393"
      ]
     },
     "execution_count": 132,
     "metadata": {},
     "output_type": "execute_result"
    }
   ],
   "source": [
    "data.head()"
   ]
  },
  {
   "cell_type": "code",
   "execution_count": 133,
   "id": "13980353",
   "metadata": {},
   "outputs": [
    {
     "data": {
      "text/plain": [
       "id           0.0\n",
       "obs_count    0.0\n",
       "std          0.0\n",
       "median       0.0\n",
       "mean         0.0\n",
       "skew         0.0\n",
       "dtype: float64"
      ]
     },
     "execution_count": 133,
     "metadata": {},
     "output_type": "execute_result"
    }
   ],
   "source": [
    "data.isnull().sum() / len(data)"
   ]
  },
  {
   "cell_type": "code",
   "execution_count": 134,
   "id": "8e785d89",
   "metadata": {},
   "outputs": [
    {
     "data": {
      "text/plain": [
       "id             int64\n",
       "obs_count      int64\n",
       "std          float64\n",
       "median       float64\n",
       "mean         float64\n",
       "skew         float64\n",
       "dtype: object"
      ]
     },
     "execution_count": 134,
     "metadata": {},
     "output_type": "execute_result"
    }
   ],
   "source": [
    "data.dtypes"
   ]
  },
  {
   "cell_type": "markdown",
   "id": "5901059a",
   "metadata": {},
   "source": [
    "### Разделение"
   ]
  },
  {
   "cell_type": "code",
   "execution_count": 135,
   "id": "443c7471",
   "metadata": {},
   "outputs": [],
   "source": [
    "from sklearn.preprocessing import StandardScaler, RobustScaler, LabelEncoder, OneHotEncoder\n",
    "from sklearn.model_selection import train_test_split"
   ]
  },
  {
   "cell_type": "code",
   "execution_count": 136,
   "id": "bf8a91fc",
   "metadata": {},
   "outputs": [],
   "source": [
    "scaler = StandardScaler()"
   ]
  },
  {
   "cell_type": "code",
   "execution_count": 138,
   "id": "a03f1e96",
   "metadata": {},
   "outputs": [],
   "source": [
    "X = scaler.fit_transform(data.loc[:, data.columns != 'y'])"
   ]
  },
  {
   "cell_type": "markdown",
   "id": "e2e9ff20",
   "metadata": {},
   "source": [
    "### Моделька"
   ]
  },
  {
   "cell_type": "code",
   "execution_count": 139,
   "id": "665054bd",
   "metadata": {},
   "outputs": [],
   "source": [
    "from sklearn.neighbors import LocalOutlierFactor\n",
    "from sklearn.model_selection import GridSearchCV"
   ]
  },
  {
   "cell_type": "code",
   "execution_count": 140,
   "id": "2c2fa275",
   "metadata": {},
   "outputs": [],
   "source": [
    "from sklearn.metrics import roc_auc_score"
   ]
  },
  {
   "cell_type": "code",
   "execution_count": 141,
   "id": "48f50f35",
   "metadata": {},
   "outputs": [],
   "source": [
    "model = LocalOutlierFactor()"
   ]
  },
  {
   "cell_type": "code",
   "execution_count": 142,
   "id": "5d20b39f",
   "metadata": {},
   "outputs": [],
   "source": [
    "y_pred = model.fit_predict(X)"
   ]
  },
  {
   "cell_type": "code",
   "execution_count": 143,
   "id": "1b9eab94",
   "metadata": {},
   "outputs": [],
   "source": [
    "y_pred[y_pred == 1] = 0"
   ]
  },
  {
   "cell_type": "code",
   "execution_count": 144,
   "id": "8929a917",
   "metadata": {},
   "outputs": [],
   "source": [
    "y_pred[y_pred == -1] = 1"
   ]
  },
  {
   "cell_type": "code",
   "execution_count": 149,
   "id": "c12b5c27",
   "metadata": {},
   "outputs": [],
   "source": [
    "my_submission = pd.DataFrame({'Id': data.id, 'y': y_pred})\n",
    "my_submission.to_csv('submission.csv', index=False)"
   ]
  },
  {
   "cell_type": "code",
   "execution_count": null,
   "id": "ce1b3b01",
   "metadata": {},
   "outputs": [],
   "source": []
  }
 ],
 "metadata": {
  "kernelspec": {
   "display_name": "Python 3 (ipykernel)",
   "language": "python",
   "name": "python3"
  },
  "language_info": {
   "codemirror_mode": {
    "name": "ipython",
    "version": 3
   },
   "file_extension": ".py",
   "mimetype": "text/x-python",
   "name": "python",
   "nbconvert_exporter": "python",
   "pygments_lexer": "ipython3",
   "version": "3.8.10"
  }
 },
 "nbformat": 4,
 "nbformat_minor": 5
}
